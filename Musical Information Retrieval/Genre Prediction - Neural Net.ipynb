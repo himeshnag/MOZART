{
 "cells": [
  {
   "cell_type": "code",
   "execution_count": 1,
   "metadata": {
    "colab": {},
    "colab_type": "code",
    "id": "q0RIsTQf8wti"
   },
   "outputs": [
    {
     "name": "stderr",
     "output_type": "stream",
     "text": [
      "Using TensorFlow backend.\n"
     ]
    }
   ],
   "source": [
    "from keras.models import Sequential\n",
    "from keras.layers import Dense\n",
    "import tensorflow as tf\n",
    "import csv \n",
    "import librosa\n"
   ]
  },
  {
   "cell_type": "markdown",
   "metadata": {},
   "source": [
    "## ANN FOR GENRE PREDICTION"
   ]
  },
  {
   "cell_type": "code",
   "execution_count": 2,
   "metadata": {
    "colab": {
     "base_uri": "https://localhost:8080/",
     "height": 113,
     "resources": {
      "http://localhost:8080/nbextensions/google.colab/files.js": {
       "data": "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",
       "headers": [
        [
         "content-type",
         "application/javascript"
        ]
       ],
       "ok": true,
       "status": 200,
       "status_text": ""
      }
     }
    },
    "colab_type": "code",
    "id": "ProeMLsV89iW",
    "outputId": "a37a64c3-b6f0-4042-93da-7c5f3d487e1d"
   },
   "outputs": [],
   "source": [
    "#from google.colab import files\n",
    "#files.upload()"
   ]
  },
  {
   "cell_type": "code",
   "execution_count": 3,
   "metadata": {
    "colab": {
     "base_uri": "https://localhost:8080/",
     "height": 224
    },
    "colab_type": "code",
    "id": "KPy7txjl89kz",
    "outputId": "072674fe-46c4-4cf6-fa82-b157057e8779"
   },
   "outputs": [
    {
     "data": {
      "text/html": [
       "<div>\n",
       "<style scoped>\n",
       "    .dataframe tbody tr th:only-of-type {\n",
       "        vertical-align: middle;\n",
       "    }\n",
       "\n",
       "    .dataframe tbody tr th {\n",
       "        vertical-align: top;\n",
       "    }\n",
       "\n",
       "    .dataframe thead th {\n",
       "        text-align: right;\n",
       "    }\n",
       "</style>\n",
       "<table border=\"1\" class=\"dataframe\">\n",
       "  <thead>\n",
       "    <tr style=\"text-align: right;\">\n",
       "      <th></th>\n",
       "      <th>filename</th>\n",
       "      <th>chroma_stft</th>\n",
       "      <th>rmse</th>\n",
       "      <th>spectral_centroid</th>\n",
       "      <th>spectral_bandwidth</th>\n",
       "      <th>rolloff</th>\n",
       "      <th>zero_crossing_rate</th>\n",
       "      <th>mfcc1</th>\n",
       "      <th>mfcc2</th>\n",
       "      <th>mfcc3</th>\n",
       "      <th>...</th>\n",
       "      <th>mfcc12</th>\n",
       "      <th>mfcc13</th>\n",
       "      <th>mfcc14</th>\n",
       "      <th>mfcc15</th>\n",
       "      <th>mfcc16</th>\n",
       "      <th>mfcc17</th>\n",
       "      <th>mfcc18</th>\n",
       "      <th>mfcc19</th>\n",
       "      <th>mfcc20</th>\n",
       "      <th>label</th>\n",
       "    </tr>\n",
       "  </thead>\n",
       "  <tbody>\n",
       "    <tr>\n",
       "      <th>0</th>\n",
       "      <td>blues.00037.au</td>\n",
       "      <td>0.248627</td>\n",
       "      <td>0.069145</td>\n",
       "      <td>1188.168337</td>\n",
       "      <td>1682.860150</td>\n",
       "      <td>2339.635853</td>\n",
       "      <td>0.048160</td>\n",
       "      <td>-328.673793</td>\n",
       "      <td>102.696873</td>\n",
       "      <td>19.876064</td>\n",
       "      <td>...</td>\n",
       "      <td>-8.897177</td>\n",
       "      <td>-9.238519</td>\n",
       "      <td>-9.109326</td>\n",
       "      <td>-9.003836</td>\n",
       "      <td>-7.640767</td>\n",
       "      <td>-7.190916</td>\n",
       "      <td>-9.368477</td>\n",
       "      <td>-4.470060</td>\n",
       "      <td>-3.688800</td>\n",
       "      <td>blues</td>\n",
       "    </tr>\n",
       "    <tr>\n",
       "      <th>1</th>\n",
       "      <td>blues.00082.au</td>\n",
       "      <td>0.338896</td>\n",
       "      <td>0.251350</td>\n",
       "      <td>2141.461656</td>\n",
       "      <td>2168.015560</td>\n",
       "      <td>4627.997015</td>\n",
       "      <td>0.105151</td>\n",
       "      <td>-29.362093</td>\n",
       "      <td>108.667950</td>\n",
       "      <td>-25.573165</td>\n",
       "      <td>...</td>\n",
       "      <td>5.456504</td>\n",
       "      <td>-7.687713</td>\n",
       "      <td>7.410600</td>\n",
       "      <td>-11.319177</td>\n",
       "      <td>7.229288</td>\n",
       "      <td>-9.466552</td>\n",
       "      <td>1.930059</td>\n",
       "      <td>-6.328476</td>\n",
       "      <td>-1.304812</td>\n",
       "      <td>blues</td>\n",
       "    </tr>\n",
       "    <tr>\n",
       "      <th>2</th>\n",
       "      <td>blues.00045.au</td>\n",
       "      <td>0.429511</td>\n",
       "      <td>0.148366</td>\n",
       "      <td>1739.019621</td>\n",
       "      <td>2290.401739</td>\n",
       "      <td>4551.155813</td>\n",
       "      <td>0.048052</td>\n",
       "      <td>-163.211141</td>\n",
       "      <td>89.791041</td>\n",
       "      <td>12.979256</td>\n",
       "      <td>...</td>\n",
       "      <td>6.008639</td>\n",
       "      <td>-2.910059</td>\n",
       "      <td>-0.434613</td>\n",
       "      <td>-17.545474</td>\n",
       "      <td>4.154533</td>\n",
       "      <td>-5.990226</td>\n",
       "      <td>-7.860423</td>\n",
       "      <td>-8.565096</td>\n",
       "      <td>1.857711</td>\n",
       "      <td>blues</td>\n",
       "    </tr>\n",
       "    <tr>\n",
       "      <th>3</th>\n",
       "      <td>blues.00078.au</td>\n",
       "      <td>0.414188</td>\n",
       "      <td>0.258052</td>\n",
       "      <td>2333.685108</td>\n",
       "      <td>2227.425609</td>\n",
       "      <td>4942.811778</td>\n",
       "      <td>0.123863</td>\n",
       "      <td>-2.524339</td>\n",
       "      <td>101.252715</td>\n",
       "      <td>-33.924385</td>\n",
       "      <td>...</td>\n",
       "      <td>12.506608</td>\n",
       "      <td>-13.368823</td>\n",
       "      <td>6.112817</td>\n",
       "      <td>-9.065891</td>\n",
       "      <td>5.033773</td>\n",
       "      <td>-11.330278</td>\n",
       "      <td>3.166534</td>\n",
       "      <td>-4.567591</td>\n",
       "      <td>-4.033623</td>\n",
       "      <td>blues</td>\n",
       "    </tr>\n",
       "    <tr>\n",
       "      <th>4</th>\n",
       "      <td>blues.00051.au</td>\n",
       "      <td>0.393756</td>\n",
       "      <td>0.196723</td>\n",
       "      <td>1977.172377</td>\n",
       "      <td>1927.803692</td>\n",
       "      <td>3942.834492</td>\n",
       "      <td>0.106627</td>\n",
       "      <td>-55.579243</td>\n",
       "      <td>114.935848</td>\n",
       "      <td>-37.052831</td>\n",
       "      <td>...</td>\n",
       "      <td>12.782317</td>\n",
       "      <td>-16.528681</td>\n",
       "      <td>3.793788</td>\n",
       "      <td>-7.890870</td>\n",
       "      <td>8.477609</td>\n",
       "      <td>-4.065210</td>\n",
       "      <td>3.207441</td>\n",
       "      <td>-5.178250</td>\n",
       "      <td>-1.279524</td>\n",
       "      <td>blues</td>\n",
       "    </tr>\n",
       "  </tbody>\n",
       "</table>\n",
       "<p>5 rows × 28 columns</p>\n",
       "</div>"
      ],
      "text/plain": [
       "         filename  chroma_stft      rmse  spectral_centroid  \\\n",
       "0  blues.00037.au     0.248627  0.069145        1188.168337   \n",
       "1  blues.00082.au     0.338896  0.251350        2141.461656   \n",
       "2  blues.00045.au     0.429511  0.148366        1739.019621   \n",
       "3  blues.00078.au     0.414188  0.258052        2333.685108   \n",
       "4  blues.00051.au     0.393756  0.196723        1977.172377   \n",
       "\n",
       "   spectral_bandwidth      rolloff  zero_crossing_rate       mfcc1  \\\n",
       "0         1682.860150  2339.635853            0.048160 -328.673793   \n",
       "1         2168.015560  4627.997015            0.105151  -29.362093   \n",
       "2         2290.401739  4551.155813            0.048052 -163.211141   \n",
       "3         2227.425609  4942.811778            0.123863   -2.524339   \n",
       "4         1927.803692  3942.834492            0.106627  -55.579243   \n",
       "\n",
       "        mfcc2      mfcc3  ...     mfcc12     mfcc13    mfcc14     mfcc15  \\\n",
       "0  102.696873  19.876064  ...  -8.897177  -9.238519 -9.109326  -9.003836   \n",
       "1  108.667950 -25.573165  ...   5.456504  -7.687713  7.410600 -11.319177   \n",
       "2   89.791041  12.979256  ...   6.008639  -2.910059 -0.434613 -17.545474   \n",
       "3  101.252715 -33.924385  ...  12.506608 -13.368823  6.112817  -9.065891   \n",
       "4  114.935848 -37.052831  ...  12.782317 -16.528681  3.793788  -7.890870   \n",
       "\n",
       "     mfcc16     mfcc17    mfcc18    mfcc19    mfcc20  label  \n",
       "0 -7.640767  -7.190916 -9.368477 -4.470060 -3.688800  blues  \n",
       "1  7.229288  -9.466552  1.930059 -6.328476 -1.304812  blues  \n",
       "2  4.154533  -5.990226 -7.860423 -8.565096  1.857711  blues  \n",
       "3  5.033773 -11.330278  3.166534 -4.567591 -4.033623  blues  \n",
       "4  8.477609  -4.065210  3.207441 -5.178250 -1.279524  blues  \n",
       "\n",
       "[5 rows x 28 columns]"
      ]
     },
     "execution_count": 3,
     "metadata": {},
     "output_type": "execute_result"
    }
   ],
   "source": [
    "import pandas as pd\n",
    "import numpy as np\n",
    "\n",
    "\n",
    "data = pd.read_csv('data.csv')\n",
    "data.head()"
   ]
  },
  {
   "cell_type": "code",
   "execution_count": 4,
   "metadata": {
    "colab": {},
    "colab_type": "code",
    "id": "iWzBd666JGAB"
   },
   "outputs": [],
   "source": [
    "import matplotlib.pyplot as plt\n",
    "import scipy as sp\n",
    "\n",
    "from sklearn.model_selection import train_test_split\n",
    "from sklearn.model_selection import learning_curve\n",
    "from sklearn.model_selection import validation_curve\n",
    "from sklearn.model_selection import cross_val_score\n",
    "from sklearn.model_selection import train_test_split\n",
    "from sklearn.preprocessing import LabelEncoder, StandardScaler\n"
   ]
  },
  {
   "cell_type": "code",
   "execution_count": 5,
   "metadata": {
    "colab": {},
    "colab_type": "code",
    "id": "GyYKO4C3JGaA"
   },
   "outputs": [],
   "source": [
    "#data = pd.DataFrame(data)"
   ]
  },
  {
   "cell_type": "code",
   "execution_count": 6,
   "metadata": {
    "colab": {},
    "colab_type": "code",
    "id": "i9OvSqYv89pZ"
   },
   "outputs": [],
   "source": [
    "data.drop(['filename'], axis = 1, inplace=True)"
   ]
  },
  {
   "cell_type": "code",
   "execution_count": 7,
   "metadata": {
    "colab": {
     "base_uri": "https://localhost:8080/",
     "height": 1000
    },
    "colab_type": "code",
    "id": "3otsX9Fe89xM",
    "outputId": "d96c92f3-615f-4cc2-9eb0-4128ad5f607b"
   },
   "outputs": [
    {
     "name": "stdout",
     "output_type": "stream",
     "text": [
      "0      blues\n",
      "1      blues\n",
      "2      blues\n",
      "3      blues\n",
      "4      blues\n",
      "5      blues\n",
      "6      blues\n",
      "7      blues\n",
      "8      blues\n",
      "9      blues\n",
      "10     blues\n",
      "11     blues\n",
      "12     blues\n",
      "13     blues\n",
      "14     blues\n",
      "15     blues\n",
      "16     blues\n",
      "17     blues\n",
      "18     blues\n",
      "19     blues\n",
      "20     blues\n",
      "21     blues\n",
      "22     blues\n",
      "23     blues\n",
      "24     blues\n",
      "25     blues\n",
      "26     blues\n",
      "27     blues\n",
      "28     blues\n",
      "29     blues\n",
      "       ...  \n",
      "970     rock\n",
      "971     rock\n",
      "972     rock\n",
      "973     rock\n",
      "974     rock\n",
      "975     rock\n",
      "976     rock\n",
      "977     rock\n",
      "978     rock\n",
      "979     rock\n",
      "980     rock\n",
      "981     rock\n",
      "982     rock\n",
      "983     rock\n",
      "984     rock\n",
      "985     rock\n",
      "986     rock\n",
      "987     rock\n",
      "988     rock\n",
      "989     rock\n",
      "990     rock\n",
      "991     rock\n",
      "992     rock\n",
      "993     rock\n",
      "994     rock\n",
      "995     rock\n",
      "996     rock\n",
      "997     rock\n",
      "998     rock\n",
      "999     rock\n",
      "Name: label, Length: 1000, dtype: object\n"
     ]
    }
   ],
   "source": [
    "print(data.iloc[:,-1])\n",
    "g_list = data.iloc[:,-1]\n",
    "encoder = LabelEncoder()\n",
    "y = encoder.fit_transform(g_list)"
   ]
  },
  {
   "cell_type": "code",
   "execution_count": 8,
   "metadata": {
    "colab": {},
    "colab_type": "code",
    "id": "ITWNdw9e891c"
   },
   "outputs": [],
   "source": [
    "scaler = StandardScaler()\n",
    "X = scaler.fit_transform(np.array(data.iloc[:, :-1], dtype = float))"
   ]
  },
  {
   "cell_type": "code",
   "execution_count": 9,
   "metadata": {
    "colab": {},
    "colab_type": "code",
    "id": "hCqCGjLA898b"
   },
   "outputs": [],
   "source": [
    "X_train, X_test, y_train, y_test = train_test_split(X, y, test_size=0.2)"
   ]
  },
  {
   "cell_type": "code",
   "execution_count": 10,
   "metadata": {
    "colab": {
     "base_uri": "https://localhost:8080/",
     "height": 35
    },
    "colab_type": "code",
    "id": "o_0hVtXP8-CH",
    "outputId": "43410aab-0a17-4634-a9d9-6d04ff2da2e8"
   },
   "outputs": [
    {
     "data": {
      "text/plain": [
       "800"
      ]
     },
     "execution_count": 10,
     "metadata": {},
     "output_type": "execute_result"
    }
   ],
   "source": [
    "len(y_train)"
   ]
  },
  {
   "cell_type": "code",
   "execution_count": 11,
   "metadata": {
    "colab": {
     "base_uri": "https://localhost:8080/",
     "height": 35
    },
    "colab_type": "code",
    "id": "rHzoD5r_8-JY",
    "outputId": "1a7fa491-1fa6-4705-e3c3-d236dad21ad9"
   },
   "outputs": [
    {
     "data": {
      "text/plain": [
       "200"
      ]
     },
     "execution_count": 11,
     "metadata": {},
     "output_type": "execute_result"
    }
   ],
   "source": [
    "len(y_test)"
   ]
  },
  {
   "cell_type": "code",
   "execution_count": 12,
   "metadata": {
    "colab": {
     "base_uri": "https://localhost:8080/",
     "height": 125
    },
    "colab_type": "code",
    "id": "Ym--C5jM8-On",
    "outputId": "1b4811f5-d398-453d-e4f1-552218fd14b5"
   },
   "outputs": [
    {
     "data": {
      "text/plain": [
       "array([-0.12481098, -0.30137495,  0.34317214,  0.39357948,  0.24641392,\n",
       "        0.46968076,  0.21268873, -0.40194099, -0.62599603, -1.7626392 ,\n",
       "        0.78622622, -0.16855093,  0.4301648 , -1.0468143 ,  0.45138761,\n",
       "       -0.64333193,  0.76843681, -0.72997467,  0.15659569, -1.48477043,\n",
       "        0.4163918 , -0.22342941,  0.63920632,  1.03287816,  0.36127061,\n",
       "       -1.08543962])"
      ]
     },
     "execution_count": 12,
     "metadata": {},
     "output_type": "execute_result"
    }
   ],
   "source": [
    "X_train[10]"
   ]
  },
  {
   "cell_type": "code",
   "execution_count": 13,
   "metadata": {
    "colab": {},
    "colab_type": "code",
    "id": "vD0wdmoL8-Wy"
   },
   "outputs": [],
   "source": [
    "from keras.models import Sequential\n",
    "from keras.layers import Dense\n"
   ]
  },
  {
   "cell_type": "code",
   "execution_count": 14,
   "metadata": {
    "colab": {
     "base_uri": "https://localhost:8080/",
     "height": 163
    },
    "colab_type": "code",
    "id": "SlhpkPrv8-bX",
    "outputId": "055b4f63-938d-46f2-e8b3-e989eddbb22b"
   },
   "outputs": [],
   "source": [
    "model = Sequential()\n",
    "model.add(Dense(256, activation='relu', input_shape=(X_train.shape[1],)))\n",
    "\n",
    "model.add(Dense(128, activation='relu'))\n",
    "\n",
    "model.add(Dense(64, activation='relu'))\n",
    "\n",
    "model.add(Dense(10, activation='softmax'))"
   ]
  },
  {
   "cell_type": "code",
   "execution_count": 15,
   "metadata": {
    "colab": {
     "base_uri": "https://localhost:8080/",
     "height": 109
    },
    "colab_type": "code",
    "id": "sUoJOnqu8-hu",
    "outputId": "514622b8-c58c-4954-b41a-fa95431d8eef"
   },
   "outputs": [],
   "source": [
    "model.compile(optimizer='adam',\n",
    "              loss='sparse_categorical_crossentropy',\n",
    "              metrics=['accuracy'])"
   ]
  },
  {
   "cell_type": "code",
   "execution_count": 16,
   "metadata": {
    "colab": {
     "base_uri": "https://localhost:8080/",
     "height": 847
    },
    "colab_type": "code",
    "id": "mzvcKyNY8-ou",
    "outputId": "27bfe0af-056f-4135-98ff-8848eeaec52b"
   },
   "outputs": [
    {
     "name": "stdout",
     "output_type": "stream",
     "text": [
      "Epoch 1/20\n",
      "800/800 [==============================] - 0s 143us/step - loss: 2.2006 - accuracy: 0.2325\n",
      "Epoch 2/20\n",
      "800/800 [==============================] - 0s 20us/step - loss: 1.9343 - accuracy: 0.3663\n",
      "Epoch 3/20\n",
      "800/800 [==============================] - 0s 17us/step - loss: 1.6983 - accuracy: 0.4250\n",
      "Epoch 4/20\n",
      "800/800 [==============================] - 0s 20us/step - loss: 1.5263 - accuracy: 0.4688\n",
      "Epoch 5/20\n",
      "800/800 [==============================] - 0s 19us/step - loss: 1.3768 - accuracy: 0.5337\n",
      "Epoch 6/20\n",
      "800/800 [==============================] - 0s 23us/step - loss: 1.2557 - accuracy: 0.5713\n",
      "Epoch 7/20\n",
      "800/800 [==============================] - 0s 22us/step - loss: 1.1724 - accuracy: 0.6050\n",
      "Epoch 8/20\n",
      "800/800 [==============================] - 0s 21us/step - loss: 1.0999 - accuracy: 0.6325\n",
      "Epoch 9/20\n",
      "800/800 [==============================] - 0s 21us/step - loss: 1.0221 - accuracy: 0.6800\n",
      "Epoch 10/20\n",
      "800/800 [==============================] - 0s 25us/step - loss: 0.9698 - accuracy: 0.6687\n",
      "Epoch 11/20\n",
      "800/800 [==============================] - 0s 19us/step - loss: 0.9110 - accuracy: 0.7038\n",
      "Epoch 12/20\n",
      "800/800 [==============================] - 0s 21us/step - loss: 0.8546 - accuracy: 0.7287\n",
      "Epoch 13/20\n",
      "800/800 [==============================] - 0s 22us/step - loss: 0.8123 - accuracy: 0.7275\n",
      "Epoch 14/20\n",
      "800/800 [==============================] - 0s 20us/step - loss: 0.7653 - accuracy: 0.7538\n",
      "Epoch 15/20\n",
      "800/800 [==============================] - 0s 24us/step - loss: 0.7197 - accuracy: 0.7725\n",
      "Epoch 16/20\n",
      "800/800 [==============================] - 0s 17us/step - loss: 0.7032 - accuracy: 0.7725\n",
      "Epoch 17/20\n",
      "800/800 [==============================] - 0s 21us/step - loss: 0.6691 - accuracy: 0.7825\n",
      "Epoch 18/20\n",
      "800/800 [==============================] - 0s 22us/step - loss: 0.6347 - accuracy: 0.8112\n",
      "Epoch 19/20\n",
      "800/800 [==============================] - 0s 19us/step - loss: 0.6052 - accuracy: 0.8100\n",
      "Epoch 20/20\n",
      "800/800 [==============================] - 0s 19us/step - loss: 0.5652 - accuracy: 0.8275\n"
     ]
    }
   ],
   "source": [
    "history = model.fit(X_train,\n",
    "                    y_train,\n",
    "                    epochs=20,\n",
    "                    batch_size=128)"
   ]
  },
  {
   "cell_type": "code",
   "execution_count": 17,
   "metadata": {
    "colab": {
     "base_uri": "https://localhost:8080/",
     "height": 35
    },
    "colab_type": "code",
    "id": "IMksR7Gx8-sK",
    "outputId": "d71c4ee6-8fa8-4718-8399-58c54181febe"
   },
   "outputs": [
    {
     "name": "stdout",
     "output_type": "stream",
     "text": [
      "200/200 [==============================] - 0s 189us/step\n"
     ]
    }
   ],
   "source": [
    "test_loss, test_acc = model.evaluate(X_test,y_test)"
   ]
  },
  {
   "cell_type": "code",
   "execution_count": 18,
   "metadata": {
    "colab": {
     "base_uri": "https://localhost:8080/",
     "height": 35
    },
    "colab_type": "code",
    "id": "TVu389zH8-uZ",
    "outputId": "201660d9-4aa5-4648-ab44-33381de23246"
   },
   "outputs": [
    {
     "name": "stdout",
     "output_type": "stream",
     "text": [
      "test_acc:  0.6850000023841858\n"
     ]
    }
   ],
   "source": [
    "print('test_acc: ',test_acc)"
   ]
  },
  {
   "cell_type": "markdown",
   "metadata": {
    "colab_type": "text",
    "id": "FxKO4mPY2tGj"
   },
   "source": [
    "validation testing"
   ]
  },
  {
   "cell_type": "code",
   "execution_count": 19,
   "metadata": {
    "colab": {},
    "colab_type": "code",
    "id": "1B8X63wf8-5C"
   },
   "outputs": [],
   "source": [
    "x_val = X_train[:200]\n",
    "partial_x_train = X_train[200:]\n",
    "\n",
    "y_val = y_train[:200]\n",
    "partial_y_train = y_train[200:]"
   ]
  },
  {
   "cell_type": "code",
   "execution_count": 20,
   "metadata": {
    "colab": {
     "base_uri": "https://localhost:8080/",
     "height": 1000
    },
    "colab_type": "code",
    "id": "X-kXgQ398-_D",
    "outputId": "bbbe2cb1-55d4-4273-853a-be410902dfc0"
   },
   "outputs": [
    {
     "name": "stdout",
     "output_type": "stream",
     "text": [
      "Train on 600 samples, validate on 200 samples\n",
      "Epoch 1/30\n",
      "600/600 [==============================] - 0s 232us/step - loss: 2.3106 - accuracy: 0.0850 - val_loss: 2.1818 - val_accuracy: 0.2800\n",
      "Epoch 2/30\n",
      "600/600 [==============================] - 0s 24us/step - loss: 2.1608 - accuracy: 0.3433 - val_loss: 2.0534 - val_accuracy: 0.3200\n",
      "Epoch 3/30\n",
      "600/600 [==============================] - 0s 27us/step - loss: 2.0250 - accuracy: 0.3767 - val_loss: 1.9182 - val_accuracy: 0.3400\n",
      "Epoch 4/30\n",
      "600/600 [==============================] - 0s 32us/step - loss: 1.8888 - accuracy: 0.3717 - val_loss: 1.7957 - val_accuracy: 0.3750\n",
      "Epoch 5/30\n",
      "600/600 [==============================] - 0s 28us/step - loss: 1.7546 - accuracy: 0.4000 - val_loss: 1.6959 - val_accuracy: 0.4100\n",
      "Epoch 6/30\n",
      "600/600 [==============================] - 0s 27us/step - loss: 1.6380 - accuracy: 0.4383 - val_loss: 1.6125 - val_accuracy: 0.4450\n",
      "Epoch 7/30\n",
      "600/600 [==============================] - 0s 35us/step - loss: 1.5312 - accuracy: 0.4583 - val_loss: 1.5345 - val_accuracy: 0.4800\n",
      "Epoch 8/30\n",
      "600/600 [==============================] - 0s 30us/step - loss: 1.4362 - accuracy: 0.4967 - val_loss: 1.4526 - val_accuracy: 0.5150\n",
      "Epoch 9/30\n",
      "600/600 [==============================] - 0s 27us/step - loss: 1.3476 - accuracy: 0.5400 - val_loss: 1.3951 - val_accuracy: 0.4850\n",
      "Epoch 10/30\n",
      "600/600 [==============================] - 0s 31us/step - loss: 1.2738 - accuracy: 0.5500 - val_loss: 1.3246 - val_accuracy: 0.5350\n",
      "Epoch 11/30\n",
      "600/600 [==============================] - 0s 27us/step - loss: 1.2050 - accuracy: 0.6000 - val_loss: 1.2562 - val_accuracy: 0.5750\n",
      "Epoch 12/30\n",
      "600/600 [==============================] - 0s 35us/step - loss: 1.1520 - accuracy: 0.6283 - val_loss: 1.2467 - val_accuracy: 0.5150\n",
      "Epoch 13/30\n",
      "600/600 [==============================] - 0s 32us/step - loss: 1.1035 - accuracy: 0.6233 - val_loss: 1.2380 - val_accuracy: 0.5400\n",
      "Epoch 14/30\n",
      "600/600 [==============================] - 0s 30us/step - loss: 1.0372 - accuracy: 0.6683 - val_loss: 1.1978 - val_accuracy: 0.5950\n",
      "Epoch 15/30\n",
      "600/600 [==============================] - 0s 35us/step - loss: 0.9965 - accuracy: 0.6700 - val_loss: 1.1159 - val_accuracy: 0.6000\n",
      "Epoch 16/30\n",
      "600/600 [==============================] - 0s 32us/step - loss: 0.9370 - accuracy: 0.7033 - val_loss: 1.1102 - val_accuracy: 0.6050\n",
      "Epoch 17/30\n",
      "600/600 [==============================] - 0s 27us/step - loss: 0.9090 - accuracy: 0.6933 - val_loss: 1.0958 - val_accuracy: 0.5950\n",
      "Epoch 18/30\n",
      "600/600 [==============================] - 0s 23us/step - loss: 0.8555 - accuracy: 0.7250 - val_loss: 1.0918 - val_accuracy: 0.5900\n",
      "Epoch 19/30\n",
      "600/600 [==============================] - 0s 30us/step - loss: 0.8244 - accuracy: 0.7317 - val_loss: 1.0767 - val_accuracy: 0.6000\n",
      "Epoch 20/30\n",
      "600/600 [==============================] - 0s 33us/step - loss: 0.7849 - accuracy: 0.7550 - val_loss: 1.0511 - val_accuracy: 0.6050\n",
      "Epoch 21/30\n",
      "600/600 [==============================] - 0s 29us/step - loss: 0.7514 - accuracy: 0.7633 - val_loss: 1.0232 - val_accuracy: 0.6350\n",
      "Epoch 22/30\n",
      "600/600 [==============================] - 0s 29us/step - loss: 0.7318 - accuracy: 0.7600 - val_loss: 1.0425 - val_accuracy: 0.6350\n",
      "Epoch 23/30\n",
      "600/600 [==============================] - 0s 29us/step - loss: 0.7016 - accuracy: 0.7867 - val_loss: 1.0408 - val_accuracy: 0.6400\n",
      "Epoch 24/30\n",
      "600/600 [==============================] - 0s 37us/step - loss: 0.6660 - accuracy: 0.7867 - val_loss: 0.9900 - val_accuracy: 0.6250\n",
      "Epoch 25/30\n",
      "600/600 [==============================] - 0s 28us/step - loss: 0.6368 - accuracy: 0.7933 - val_loss: 0.9933 - val_accuracy: 0.6450\n",
      "Epoch 26/30\n",
      "600/600 [==============================] - 0s 26us/step - loss: 0.6272 - accuracy: 0.7917 - val_loss: 1.0123 - val_accuracy: 0.6250\n",
      "Epoch 27/30\n",
      "600/600 [==============================] - 0s 37us/step - loss: 0.6022 - accuracy: 0.8083 - val_loss: 1.0071 - val_accuracy: 0.6500\n",
      "Epoch 28/30\n",
      "600/600 [==============================] - 0s 34us/step - loss: 0.5599 - accuracy: 0.8283 - val_loss: 1.0311 - val_accuracy: 0.6500\n",
      "Epoch 29/30\n",
      "600/600 [==============================] - 0s 25us/step - loss: 0.5461 - accuracy: 0.8183 - val_loss: 1.0138 - val_accuracy: 0.6500\n",
      "Epoch 30/30\n",
      "600/600 [==============================] - 0s 31us/step - loss: 0.5164 - accuracy: 0.8450 - val_loss: 0.9928 - val_accuracy: 0.6700\n",
      "200/200 [==============================] - 0s 36us/step\n"
     ]
    }
   ],
   "source": [
    "model = Sequential()\n",
    "model.add(Dense(512, activation='relu', input_shape=(X_train.shape[1],)))\n",
    "model.add(Dense(256, activation='relu'))\n",
    "model.add(Dense(128, activation='relu'))\n",
    "model.add(Dense(64, activation='relu'))\n",
    "model.add(Dense(10, activation='softmax'))\n",
    "\n",
    "model.compile(optimizer='adam',\n",
    "              loss='sparse_categorical_crossentropy',\n",
    "              metrics=['accuracy'])\n",
    "\n",
    "model.fit(partial_x_train,\n",
    "          partial_y_train,\n",
    "          epochs=30,\n",
    "          batch_size=512,\n",
    "          validation_data=(x_val, y_val))\n",
    "results = model.evaluate(X_test, y_test)"
   ]
  },
  {
   "cell_type": "code",
   "execution_count": 21,
   "metadata": {
    "colab": {},
    "colab_type": "code",
    "id": "iMPDKx0B8-88"
   },
   "outputs": [],
   "source": [
    "predictions = model.predict(X_test)"
   ]
  },
  {
   "cell_type": "code",
   "execution_count": 22,
   "metadata": {
    "colab": {
     "base_uri": "https://localhost:8080/",
     "height": 35
    },
    "colab_type": "code",
    "id": "QY_bCj1v8-2o",
    "outputId": "5c3b4889-dec5-44d1-80ec-2711b687eba3"
   },
   "outputs": [
    {
     "data": {
      "text/plain": [
       "(10,)"
      ]
     },
     "execution_count": 22,
     "metadata": {},
     "output_type": "execute_result"
    }
   ],
   "source": [
    "predictions[0].shape"
   ]
  },
  {
   "cell_type": "code",
   "execution_count": 23,
   "metadata": {
    "colab": {
     "base_uri": "https://localhost:8080/",
     "height": 35
    },
    "colab_type": "code",
    "id": "AasN7srU8-me",
    "outputId": "7540fb32-a33a-4adb-c45e-9bdaf3f63cbd"
   },
   "outputs": [
    {
     "data": {
      "text/plain": [
       "1.0"
      ]
     },
     "execution_count": 23,
     "metadata": {},
     "output_type": "execute_result"
    }
   ],
   "source": [
    "np.sum(predictions[0])"
   ]
  },
  {
   "cell_type": "code",
   "execution_count": 24,
   "metadata": {
    "colab": {
     "base_uri": "https://localhost:8080/",
     "height": 35
    },
    "colab_type": "code",
    "id": "kT5pFWf48-f7",
    "outputId": "4b1bcabb-6b50-452b-ccb6-79cbeb46f218"
   },
   "outputs": [
    {
     "data": {
      "text/plain": [
       "0"
      ]
     },
     "execution_count": 24,
     "metadata": {},
     "output_type": "execute_result"
    }
   ],
   "source": [
    "np.argmax(predictions[0])"
   ]
  },
  {
   "cell_type": "code",
   "execution_count": 25,
   "metadata": {
    "colab": {},
    "colab_type": "code",
    "id": "U7jNo2sy8-Z9"
   },
   "outputs": [
    {
     "name": "stdout",
     "output_type": "stream",
     "text": [
      " 1. blues,\n",
      " 2.classical,\n",
      " 3.country,\n",
      " 4.disco/Electronic,\n",
      " 5.hiphop,\n",
      " 6.jazz,\n",
      " 7.metal,\n",
      " 8.pop,\n",
      " 9.reggae,\n",
      "10.rock\n"
     ]
    }
   ],
   "source": [
    "print (\" 1. blues,\\n 2.classical,\\n 3.country,\\n 4.disco/Electronic,\\n 5.hiphop,\\n 6.jazz,\\n 7.metal,\")\n",
    "print (\" 8.pop,\\n 9.reggae,\\n10.rock\")"
   ]
  },
  {
   "cell_type": "code",
   "execution_count": 26,
   "metadata": {
    "colab": {},
    "colab_type": "code",
    "id": "1RyzRNeq8-To"
   },
   "outputs": [],
   "source": [
    "#It is indeed an electronically produced Screech, Hence the prediction is correct"
   ]
  },
  {
   "cell_type": "code",
   "execution_count": null,
   "metadata": {
    "colab": {},
    "colab_type": "code",
    "id": "CDKqsevv8-Ms"
   },
   "outputs": [],
   "source": []
  },
  {
   "cell_type": "code",
   "execution_count": null,
   "metadata": {
    "colab": {},
    "colab_type": "code",
    "id": "3UySNQn-8-Gw"
   },
   "outputs": [],
   "source": []
  },
  {
   "cell_type": "code",
   "execution_count": null,
   "metadata": {
    "colab": {},
    "colab_type": "code",
    "id": "414h-oKO8-AP"
   },
   "outputs": [],
   "source": []
  },
  {
   "cell_type": "code",
   "execution_count": null,
   "metadata": {
    "colab": {},
    "colab_type": "code",
    "id": "LUHuYrK_896A"
   },
   "outputs": [],
   "source": []
  },
  {
   "cell_type": "code",
   "execution_count": null,
   "metadata": {
    "colab": {},
    "colab_type": "code",
    "id": "y4UYUsId89z4"
   },
   "outputs": [],
   "source": []
  },
  {
   "cell_type": "code",
   "execution_count": null,
   "metadata": {
    "colab": {},
    "colab_type": "code",
    "id": "F6hrE2Hz89uF"
   },
   "outputs": [],
   "source": []
  },
  {
   "cell_type": "code",
   "execution_count": null,
   "metadata": {
    "colab": {},
    "colab_type": "code",
    "id": "TSWnyVqy89nr"
   },
   "outputs": [],
   "source": []
  },
  {
   "cell_type": "code",
   "execution_count": null,
   "metadata": {
    "colab": {},
    "colab_type": "code",
    "id": "iUa_ScyE89e5"
   },
   "outputs": [],
   "source": []
  }
 ],
 "metadata": {
  "colab": {
   "name": "genresANN.ipynb",
   "provenance": [],
   "version": "0.3.2"
  },
  "kernelspec": {
   "display_name": "Python 3",
   "language": "python",
   "name": "python3"
  },
  "language_info": {
   "codemirror_mode": {
    "name": "ipython",
    "version": 3
   },
   "file_extension": ".py",
   "mimetype": "text/x-python",
   "name": "python",
   "nbconvert_exporter": "python",
   "pygments_lexer": "ipython3",
   "version": "3.7.7"
  }
 },
 "nbformat": 4,
 "nbformat_minor": 1
}
